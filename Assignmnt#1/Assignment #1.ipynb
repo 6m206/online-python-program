{
 "cells": [
  {
   "cell_type": "code",
   "execution_count": 1,
   "id": "d6f461d6",
   "metadata": {},
   "outputs": [
    {
     "name": "stdout",
     "output_type": "stream",
     "text": [
      "Twinkle Twinkle little star   \n",
      "    How i wonder what you are! \n",
      "       up above the world so high, \n",
      "       like a diamond in the sky. \n",
      " Twinkle, Twinkle, little star,\n",
      "    How i wonder what you are\n"
     ]
    }
   ],
   "source": [
    "print(\"Twinkle\", \"Twinkle\", \"little star\",\n",
    "             \"  \\n    How i wonder what you are!\"\n",
    "                    \" \\n       up above the world so high,\"\n",
    "                    \" \\n       like a diamond in the sky.\"\n",
    "      \" \\n Twinkle, Twinkle, little star,\"\n",
    "             \"\\n    How i wonder what you are\");"
   ]
  },
  {
   "cell_type": "code",
   "execution_count": 2,
   "id": "998011f0",
   "metadata": {},
   "outputs": [
    {
     "name": "stdout",
     "output_type": "stream",
     "text": [
      "python version\n",
      " python 3.9.7\n"
     ]
    }
   ],
   "source": [
    "print(\"python version\"\n",
    "      \"\\n python 3.9.7\");"
   ]
  },
  {
   "cell_type": "code",
   "execution_count": 3,
   "id": "4215cd2b",
   "metadata": {},
   "outputs": [
    {
     "name": "stdout",
     "output_type": "stream",
     "text": [
      "current Date\n",
      " 30th December\n",
      " current Time\n",
      " 4:25PM\n"
     ]
    }
   ],
   "source": [
    "print(\"current Date\"\n",
    "      \"\\n 30th December\"\n",
    "      \"\\n current Time\"\n",
    "      \"\\n 4:25PM\");"
   ]
  },
  {
   "cell_type": "code",
   "execution_count": 4,
   "id": "9e0d0706",
   "metadata": {},
   "outputs": [
    {
     "name": "stdout",
     "output_type": "stream",
     "text": [
      "Enter radius of circle : 4\n",
      "Area of the circle is: 50.26548245743669\n"
     ]
    }
   ],
   "source": [
    "from math import pi\n",
    "r = float(input (\"Enter radius of circle : \"))\n",
    "\n",
    "print (\"Area of the circle is: \" + str (pi * r**2))"
   ]
  },
  {
   "cell_type": "code",
   "execution_count": 5,
   "id": "cc9cf961",
   "metadata": {},
   "outputs": [
    {
     "name": "stdout",
     "output_type": "stream",
     "text": [
      "Input your First Name : Yashfa\n",
      "Input your Last Name : Shafiq\n",
      " Reverse Shafiq Yashfa\n"
     ]
    }
   ],
   "source": [
    "firstname = input(\"Input your First Name : \")\n",
    "lastname = input(\"Input your Last Name : \")\n",
    "print ( \" Reverse \" + lastname + \" \" + firstname);"
   ]
  },
  {
   "cell_type": "code",
   "execution_count": 6,
   "id": "29b3ccf1",
   "metadata": {},
   "outputs": [
    {
     "name": "stdout",
     "output_type": "stream",
     "text": [
      "Type a number: 70\n",
      "Type another number: 66\n",
      "The sum is:  136\n"
     ]
    }
   ],
   "source": [
    "x = input(\"Type a number: \")\n",
    "y = input(\"Type another number: \")\n",
    "\n",
    "sum = int(x) + int(y)\n",
    "\n",
    "print(\"The sum is: \", sum);"
   ]
  },
  {
   "cell_type": "code",
   "execution_count": null,
   "id": "27395ffd",
   "metadata": {},
   "outputs": [],
   "source": []
  }
 ],
 "metadata": {
  "kernelspec": {
   "display_name": "Python 3 (ipykernel)",
   "language": "python",
   "name": "python3"
  },
  "language_info": {
   "codemirror_mode": {
    "name": "ipython",
    "version": 3
   },
   "file_extension": ".py",
   "mimetype": "text/x-python",
   "name": "python",
   "nbconvert_exporter": "python",
   "pygments_lexer": "ipython3",
   "version": "3.9.7"
  }
 },
 "nbformat": 4,
 "nbformat_minor": 5
}
