{
 "cells": [
  {
   "cell_type": "markdown",
   "id": "a26adcc6",
   "metadata": {},
   "source": [
    "# Conditions"
   ]
  },
  {
   "cell_type": "code",
   "execution_count": 1,
   "id": "7012c16d",
   "metadata": {},
   "outputs": [
    {
     "name": "stdout",
     "output_type": "stream",
     "text": [
      "Enter your marks: 75\n"
     ]
    }
   ],
   "source": [
    "marks = int(input(\"Enter your marks: \"))"
   ]
  },
  {
   "cell_type": "code",
   "execution_count": 2,
   "id": "e205e5bb",
   "metadata": {},
   "outputs": [
    {
     "name": "stdout",
     "output_type": "stream",
     "text": [
      "B grade\n"
     ]
    }
   ],
   "source": [
    "# { }\n",
    "\n",
    "if (marks>50):\n",
    "    if(marks>80):\n",
    "        print(\"You aced\")\n",
    "    elif (80>marks>70):\n",
    "        print(\"B grade\")\n",
    "\n",
    "    else:\n",
    "        print(\"You just passed\")\n",
    "elif (marks==50):\n",
    "        print (\"passed\")\n",
    "else:\n",
    "    print (\"Better luck next time!\")"
   ]
  },
  {
   "cell_type": "code",
   "execution_count": 3,
   "id": "9099e2ea",
   "metadata": {},
   "outputs": [
    {
     "data": {
      "text/plain": [
       "str"
      ]
     },
     "execution_count": 3,
     "metadata": {},
     "output_type": "execute_result"
    }
   ],
   "source": [
    "a = (\"677\")\n",
    "type (a)"
   ]
  },
  {
   "cell_type": "code",
   "execution_count": 4,
   "id": "ad149dae",
   "metadata": {},
   "outputs": [
    {
     "data": {
      "text/plain": [
       "float"
      ]
     },
     "execution_count": 4,
     "metadata": {},
     "output_type": "execute_result"
    }
   ],
   "source": [
    "a = float(a)\n",
    "type(a)"
   ]
  },
  {
   "cell_type": "markdown",
   "id": "7543612f",
   "metadata": {},
   "source": [
    "# List"
   ]
  },
  {
   "cell_type": "code",
   "execution_count": 5,
   "id": "ec62d753",
   "metadata": {},
   "outputs": [
    {
     "name": "stdout",
     "output_type": "stream",
     "text": [
      "[1, 2, 3, 4, 5, 6, 7]\n"
     ]
    }
   ],
   "source": [
    "a = [1,2,3,4,5,6,7]\n",
    "print (a)"
   ]
  },
  {
   "cell_type": "code",
   "execution_count": 6,
   "id": "bba8289b",
   "metadata": {},
   "outputs": [
    {
     "name": "stdout",
     "output_type": "stream",
     "text": [
      "[1, 3, 5, 7]\n"
     ]
    }
   ],
   "source": [
    "print (a[0:7:2])"
   ]
  },
  {
   "cell_type": "code",
   "execution_count": 7,
   "id": "8b77a2f2",
   "metadata": {},
   "outputs": [
    {
     "data": {
      "text/plain": [
       "list"
      ]
     },
     "execution_count": 7,
     "metadata": {},
     "output_type": "execute_result"
    }
   ],
   "source": [
    "type(a)"
   ]
  },
  {
   "cell_type": "code",
   "execution_count": 8,
   "id": "b9910f73",
   "metadata": {},
   "outputs": [
    {
     "name": "stdout",
     "output_type": "stream",
     "text": [
      "emter your value: 1\n",
      "['1']\n",
      "emter your value: 2\n",
      "['1', '2']\n",
      "emter your value: 3\n",
      "['1', '2', '3']\n",
      "emter your value: 4\n",
      "['1', '2', '3', '4']\n",
      "emter your value: 5\n",
      "['1', '2', '3', '4', '5']\n"
     ]
    }
   ],
   "source": [
    "b = []\n",
    "for i in range (5):\n",
    "    temp = input(\"emter your value: \")\n",
    "    b.append(temp)\n",
    "    \n",
    "    print (b)"
   ]
  },
  {
   "cell_type": "code",
   "execution_count": 9,
   "id": "37459497",
   "metadata": {},
   "outputs": [
    {
     "name": "stdout",
     "output_type": "stream",
     "text": [
      "enter your value: 1\n",
      "enter your value: 2\n",
      "enter your value: 3\n",
      "enter your value: 4\n"
     ]
    }
   ],
   "source": [
    "b.append(int(input(\"enter your value: \" )))\n",
    "b.append(int(input(\"enter your value: \" )))\n",
    "b.append(int(input(\"enter your value: \" )))\n",
    "b.append(int(input(\"enter your value: \" )))"
   ]
  },
  {
   "cell_type": "code",
   "execution_count": 10,
   "id": "7a492e02",
   "metadata": {},
   "outputs": [
    {
     "name": "stdout",
     "output_type": "stream",
     "text": [
      "\n",
      "*\n",
      "**\n",
      "***\n",
      "****\n"
     ]
    }
   ],
   "source": [
    "b =[]\n",
    "for i in range(5):\n",
    "    print(\"*\"*i)"
   ]
  },
  {
   "cell_type": "code",
   "execution_count": 11,
   "id": "27aa49d4",
   "metadata": {},
   "outputs": [
    {
     "name": "stdout",
     "output_type": "stream",
     "text": [
      "enter your value: 2\n",
      "enter your value: 4\n",
      "enter your value: 6\n",
      "enter your value: 8\n"
     ]
    }
   ],
   "source": [
    "b.append(int(input(\"enter your value: \" )))\n",
    "b.append(int(input(\"enter your value: \" )))\n",
    "b.append(int(input(\"enter your value: \" )))\n",
    "b.append(int(input(\"enter your value: \" )))"
   ]
  },
  {
   "cell_type": "code",
   "execution_count": 12,
   "id": "c176578b",
   "metadata": {},
   "outputs": [
    {
     "data": {
      "text/plain": [
       "[2, 4, 3, 6, 8]"
      ]
     },
     "execution_count": 12,
     "metadata": {},
     "output_type": "execute_result"
    }
   ],
   "source": [
    "b.insert(2,3)\n",
    "b"
   ]
  },
  {
   "cell_type": "code",
   "execution_count": 13,
   "id": "87a1bd4e",
   "metadata": {},
   "outputs": [],
   "source": [
    "b.remove(6)\n"
   ]
  },
  {
   "cell_type": "code",
   "execution_count": 14,
   "id": "4c310f71",
   "metadata": {},
   "outputs": [
    {
     "data": {
      "text/plain": [
       "[2, 4, 3, 8]"
      ]
     },
     "execution_count": 14,
     "metadata": {},
     "output_type": "execute_result"
    }
   ],
   "source": [
    "b"
   ]
  },
  {
   "cell_type": "code",
   "execution_count": 15,
   "id": "a416ae6c",
   "metadata": {},
   "outputs": [
    {
     "name": "stdout",
     "output_type": "stream",
     "text": [
      "Enter any number: 2\n",
      "Enter any number: 4\n",
      "Enter any number: 6\n",
      "Enter any number: 8\n",
      "Enter any number: 10\n",
      "Enter any number: 12\n"
     ]
    }
   ],
   "source": [
    "for i in range (10):\n",
    "    int(input(\"Enter any number: \"))\n",
    "    if(i==5):\n",
    "        break"
   ]
  },
  {
   "cell_type": "code",
   "execution_count": 16,
   "id": "9b68ec5e",
   "metadata": {},
   "outputs": [
    {
     "name": "stdout",
     "output_type": "stream",
     "text": [
      "0\n",
      "1\n",
      "2\n",
      "3\n",
      "4\n",
      "5\n",
      "6\n",
      "7\n",
      "8\n",
      "9\n"
     ]
    }
   ],
   "source": [
    "a = [1,2,3,4,5,6,7,8,9,0]\n",
    "for i in range(len(a)):\n",
    "    print(a[i-1])"
   ]
  },
  {
   "cell_type": "code",
   "execution_count": 17,
   "id": "5bdbb785",
   "metadata": {},
   "outputs": [
    {
     "name": "stdout",
     "output_type": "stream",
     "text": [
      "enter any word :MOM\n",
      "its a palindrome\n"
     ]
    }
   ],
   "source": [
    "a = input(\"enter any word :\")\n",
    "if(a==a[::-1]):\n",
    "    print(\"its a palindrome\")\n",
    "else:\n",
    "        print(\"not a palindrome\")"
   ]
  },
  {
   "cell_type": "code",
   "execution_count": 18,
   "id": "3e4b3531",
   "metadata": {},
   "outputs": [
    {
     "name": "stdout",
     "output_type": "stream",
     "text": [
      "enter any word :class\n",
      "not a palindrome\n"
     ]
    }
   ],
   "source": [
    "a = input(\"enter any word :\")\n",
    "if(a==a[::-1]):\n",
    "    print(\"its a palindrome\")\n",
    "else:\n",
    "        print(\"not a palindrome\")"
   ]
  },
  {
   "cell_type": "code",
   "execution_count": null,
   "id": "219c7256",
   "metadata": {},
   "outputs": [],
   "source": []
  },
  {
   "cell_type": "code",
   "execution_count": null,
   "id": "feb91e67",
   "metadata": {},
   "outputs": [],
   "source": []
  }
 ],
 "metadata": {
  "kernelspec": {
   "display_name": "Python 3 (ipykernel)",
   "language": "python",
   "name": "python3"
  },
  "language_info": {
   "codemirror_mode": {
    "name": "ipython",
    "version": 3
   },
   "file_extension": ".py",
   "mimetype": "text/x-python",
   "name": "python",
   "nbconvert_exporter": "python",
   "pygments_lexer": "ipython3",
   "version": "3.9.7"
  }
 },
 "nbformat": 4,
 "nbformat_minor": 5
}
